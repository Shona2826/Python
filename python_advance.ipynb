{
 "cells": [
  {
   "cell_type": "markdown",
   "metadata": {},
   "source": [
    "<h3>Sorting"
   ]
  },
  {
   "cell_type": "code",
   "execution_count": 7,
   "metadata": {},
   "outputs": [
    {
     "name": "stdout",
     "output_type": "stream",
     "text": [
      "[2, 3, 4, 5]\n",
      "[22, 5, 4, 3]\n"
     ]
    }
   ],
   "source": [
    "x= [4,3,2,5]\n",
    "y = sorted(x)\n",
    "print(y)\n",
    "\n",
    "#sort the list by abso;ute value from largest to smallest\n",
    "x= sorted([4,3,5,22], key= abs , reverse = True)\n",
    "print(x)\n",
    "\n"
   ]
  },
  {
   "cell_type": "markdown",
   "metadata": {},
   "source": [
    "<h3>Lists Comprehensions</h3>Transforming a list into another list by choosing elements. or by transforming elements,or both"
   ]
  },
  {
   "cell_type": "code",
   "execution_count": 9,
   "metadata": {},
   "outputs": [
    {
     "name": "stdout",
     "output_type": "stream",
     "text": [
      "[0, 4, 16]\n"
     ]
    }
   ],
   "source": [
    "even_numbers = [x for x in range(5) if x % 2 ==0]\n",
    "squares = [x * x for x in range(5)]\n",
    "even_squares = [x *x for x in even_numbers]\n",
    "print(even_squares)"
   ]
  },
  {
   "cell_type": "code",
   "execution_count": 12,
   "metadata": {},
   "outputs": [
    {
     "name": "stdout",
     "output_type": "stream",
     "text": [
      "{0: 0, 1: 1, 2: 4, 3: 9, 4: 16}\n",
      "{1}\n"
     ]
    }
   ],
   "source": [
    "#turn lists into dictionaries or sets\n",
    "square_dict = { x: x*x for x in range(5)}\n",
    "square_set = {x*x for x in [1,-1]}\n",
    "print(square_dict)\n",
    "print(square_set)"
   ]
  },
  {
   "cell_type": "code",
   "execution_count": 15,
   "metadata": {},
   "outputs": [
    {
     "name": "stdout",
     "output_type": "stream",
     "text": [
      "[(0, 0), (0, 1), (0, 2), (0, 3), (0, 4), (0, 5), (0, 6), (0, 7), (0, 8), (0, 9), (1, 0), (1, 1), (1, 2), (1, 3), (1, 4), (1, 5), (1, 6), (1, 7), (1, 8), (1, 9), (2, 0), (2, 1), (2, 2), (2, 3), (2, 4), (2, 5), (2, 6), (2, 7), (2, 8), (2, 9), (3, 0), (3, 1), (3, 2), (3, 3), (3, 4), (3, 5), (3, 6), (3, 7), (3, 8), (3, 9), (4, 0), (4, 1), (4, 2), (4, 3), (4, 4), (4, 5), (4, 6), (4, 7), (4, 8), (4, 9), (5, 0), (5, 1), (5, 2), (5, 3), (5, 4), (5, 5), (5, 6), (5, 7), (5, 8), (5, 9), (6, 0), (6, 1), (6, 2), (6, 3), (6, 4), (6, 5), (6, 6), (6, 7), (6, 8), (6, 9), (7, 0), (7, 1), (7, 2), (7, 3), (7, 4), (7, 5), (7, 6), (7, 7), (7, 8), (7, 9), (8, 0), (8, 1), (8, 2), (8, 3), (8, 4), (8, 5), (8, 6), (8, 7), (8, 8), (8, 9), (9, 0), (9, 1), (9, 2), (9, 3), (9, 4), (9, 5), (9, 6), (9, 7), (9, 8), (9, 9)]\n",
      "100\n"
     ]
    }
   ],
   "source": [
    "pairs  = [(x,y) for x in range(10) for y in range(10)]\n",
    "print(pairs)\n",
    "print(len(pairs))"
   ]
  },
  {
   "cell_type": "markdown",
   "metadata": {},
   "source": [
    "<h3>Generator and Iterators</h3><br> A generator is something that we can iterate over but whose values are produced only as needed. Only way to create genrators is with functions and the yiels operator"
   ]
  },
  {
   "cell_type": "code",
   "execution_count": 18,
   "metadata": {},
   "outputs": [
    {
     "name": "stdout",
     "output_type": "stream",
     "text": [
      "<generator object lazy_range at 0x000002928FAC62B0>\n"
     ]
    }
   ],
   "source": [
    "def lazy_range(n):\n",
    "    i=0\n",
    "    while i<n:\n",
    "        yield i\n",
    "        i +=1\n",
    "        \n",
    "print(lazy_range(10))"
   ]
  },
  {
   "cell_type": "code",
   "execution_count": 19,
   "metadata": {},
   "outputs": [
    {
     "name": "stdout",
     "output_type": "stream",
     "text": [
      "<generator object <genexpr> at 0x000002928FAC6308>\n"
     ]
    }
   ],
   "source": [
    "lazy_even_below_20 = (i for i in lazy_range(20) if i % 2 ==0)\n",
    "print(lazy_even_below_20)"
   ]
  },
  {
   "cell_type": "markdown",
   "metadata": {},
   "source": [
    "<h3>Randomness</h3>"
   ]
  },
  {
   "cell_type": "code",
   "execution_count": 21,
   "metadata": {},
   "outputs": [
    {
     "name": "stdout",
     "output_type": "stream",
     "text": [
      "[<built-in method random of Random object at 0x000002928D7A5338>, <built-in method random of Random object at 0x000002928D7A5338>, <built-in method random of Random object at 0x000002928D7A5338>, <built-in method random of Random object at 0x000002928D7A5338>]\n"
     ]
    }
   ],
   "source": [
    "import random\n",
    "four_uniform_randoms = [random.random for i in range(4)]\n",
    "print(four_uniform_randoms)"
   ]
  },
  {
   "cell_type": "code",
   "execution_count": 23,
   "metadata": {},
   "outputs": [
    {
     "name": "stdout",
     "output_type": "stream",
     "text": [
      "<built-in method random of Random object at 0x000002928D7A5338>\n"
     ]
    }
   ],
   "source": [
    "random.seed(10)\n",
    "print(random.random)"
   ]
  },
  {
   "cell_type": "code",
   "execution_count": 31,
   "metadata": {},
   "outputs": [
    {
     "name": "stdout",
     "output_type": "stream",
     "text": [
      "5\n",
      "[48, 53, 36, 86, 33, 58]\n",
      "[2, 4, 5, 2]\n"
     ]
    }
   ],
   "source": [
    "print(random.randrange(10))\n",
    "#if we want to randomly choose an element without replacement and with no duplicates\n",
    "lottery_number = range(100)\n",
    "winning_number = random.sample(lottery_number,6)\n",
    "print(winning_number)\n",
    "\n",
    "# with replacement and duplicates\n",
    "\n",
    "four_with_replacement = [random.choice(range(10)) for i in range(4)]\n",
    "print(four_with_replacement)"
   ]
  },
  {
   "cell_type": "markdown",
   "metadata": {},
   "source": [
    "<h3>Regular Expressions</h3>"
   ]
  },
  {
   "cell_type": "code",
   "execution_count": 33,
   "metadata": {},
   "outputs": [
    {
     "name": "stdout",
     "output_type": "stream",
     "text": [
      "False\n"
     ]
    }
   ],
   "source": [
    "import re\n",
    "print(all([not re.match(\"a\",\"cat\"),re.search(\"c\",\"dog\"),3 == len(re.split(\"[ab]\",\"carbs\")),\"R-d-\" == re.sub(\"[0-9]\", \"-\", \"R2D2\")]))"
   ]
  },
  {
   "cell_type": "markdown",
   "metadata": {},
   "source": [
    "<h3>OOP</h3>"
   ]
  },
  {
   "cell_type": "code",
   "execution_count": 35,
   "metadata": {},
   "outputs": [],
   "source": [
    "class Set:\n",
    "    def __init__(self,values = None):\n",
    "        self.dict= {}\n",
    "        if values is not None:\n",
    "            for value in values:\n",
    "                self.add(value)\n",
    "                \n",
    "    def __repr__(self):\n",
    "        return \"Set: \" + str(self.dict.keys())\n",
    "    \n",
    "    def add(self,value):\n",
    "        self.dict[value] = True\n",
    "        \n",
    "    def contains(self,value):\n",
    "        return value in self.dict\n",
    "    \n",
    "    def remove(self,value):\n",
    "        del self.dict[value]"
   ]
  },
  {
   "cell_type": "code",
   "execution_count": 36,
   "metadata": {},
   "outputs": [
    {
     "name": "stdout",
     "output_type": "stream",
     "text": [
      "True\n",
      "False\n"
     ]
    }
   ],
   "source": [
    "s = Set([1,2,3])\n",
    "s.add(4)\n",
    "print(s.contains(4))\n",
    "s.remove(3)\n",
    "print(s.contains(3))"
   ]
  },
  {
   "cell_type": "markdown",
   "metadata": {},
   "source": [
    "<h3>Functional Tools"
   ]
  },
  {
   "cell_type": "code",
   "execution_count": 38,
   "metadata": {},
   "outputs": [
    {
     "name": "stdout",
     "output_type": "stream",
     "text": [
      "8\n"
     ]
    }
   ],
   "source": [
    "def exp(base,power):\n",
    "    return base ** power\n",
    "\n",
    "from functools import partial\n",
    "two_to_the = partial(exp,2)\n",
    "print(two_to_the(3))"
   ]
  },
  {
   "cell_type": "code",
   "execution_count": 39,
   "metadata": {},
   "outputs": [
    {
     "name": "stdout",
     "output_type": "stream",
     "text": [
      "[[1, 2, 3, 4, 1, 2, 3, 4], [1, 2, 3, 4, 1, 2, 3, 4], [1, 2, 3, 4, 1, 2, 3, 4], [1, 2, 3, 4, 1, 2, 3, 4]]\n",
      "<map object at 0x000002928FAE4BE0>\n",
      "<map object at 0x000002928FAE4B38>\n"
     ]
    }
   ],
   "source": [
    "def double(x):\n",
    "    return 2*x\n",
    "\n",
    "x= [1,2,3,4]\n",
    "twice_x = [double(x) for i in x]\n",
    "print(twice_x)\n",
    "twice_x = map(double,x)\n",
    "print(twice_x)\n",
    "list_doubler = partial(map,double)\n",
    "twice_x = list_doubler(x)\n",
    "print(twice_x)"
   ]
  },
  {
   "cell_type": "markdown",
   "metadata": {},
   "source": [
    "<b>Similarly we can use filter and reduce"
   ]
  },
  {
   "cell_type": "markdown",
   "metadata": {},
   "source": [
    "<h3>Zip and argumnet Unpacking</h3><br>.zip transorms multiple lists into a single list of tuples of corresponding elements"
   ]
  },
  {
   "cell_type": "code",
   "execution_count": 41,
   "metadata": {},
   "outputs": [
    {
     "name": "stdout",
     "output_type": "stream",
     "text": [
      "<zip object at 0x000002928FA8AA88>\n"
     ]
    }
   ],
   "source": [
    "list1=  ['a','a']\n",
    "list2 = [1,3]\n",
    "print(zip(list1,list2))"
   ]
  },
  {
   "cell_type": "code",
   "execution_count": 42,
   "metadata": {},
   "outputs": [
    {
     "name": "stdout",
     "output_type": "stream",
     "text": [
      "('a', 'b', 'c') (1, 2, 3)\n"
     ]
    }
   ],
   "source": [
    "#if lists are of different length,zip stops as soon as the first list ends.\n",
    "#unzip\n",
    "pairs = [('a',1),('b',2),('c',3)]\n",
    "letters,numbers = zip(*pairs)\n",
    "print(letters,numbers)"
   ]
  },
  {
   "cell_type": "code",
   "execution_count": 44,
   "metadata": {},
   "outputs": [
    {
     "name": "stdout",
     "output_type": "stream",
     "text": [
      "3\n",
      "3\n"
     ]
    }
   ],
   "source": [
    "def add(a,b): return a+b\n",
    "\n",
    "\n",
    "print(add(1,2))\n",
    "print(add(*[1,2]))\n",
    "#print(add([1,2]))        type error"
   ]
  },
  {
   "cell_type": "code",
   "execution_count": null,
   "metadata": {},
   "outputs": [],
   "source": []
  }
 ],
 "metadata": {
  "kernelspec": {
   "display_name": "Python 3",
   "language": "python",
   "name": "python3"
  },
  "language_info": {
   "codemirror_mode": {
    "name": "ipython",
    "version": 3
   },
   "file_extension": ".py",
   "mimetype": "text/x-python",
   "name": "python",
   "nbconvert_exporter": "python",
   "pygments_lexer": "ipython3",
   "version": "3.6.8"
  }
 },
 "nbformat": 4,
 "nbformat_minor": 2
}
