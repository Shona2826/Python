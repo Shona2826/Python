{
 "cells": [
  {
   "cell_type": "markdown",
   "metadata": {},
   "source": [
    "<h2>Vectors</h2>Vectors are the object which can added together to form the new vector or which can be multiplied by scalars to form the new vector"
   ]
  },
  {
   "cell_type": "code",
   "execution_count": 1,
   "metadata": {},
   "outputs": [],
   "source": [
    "height_weight_age = [70, # inches,\n",
    "170, # pounds,\n",
    "40 ] # years\n",
    "\n",
    "grades = [95, # exam1\n",
    "80, # exam2\n",
    "75, # exam3\n",
    "62 ] # exam4"
   ]
  },
  {
   "cell_type": "code",
   "execution_count": 3,
   "metadata": {},
   "outputs": [],
   "source": [
    "#addition of vectors\n",
    "def vector_add(v,w):\n",
    "    return [v_i + w_i for v_i,w_i in zip(v,w)]\n",
    "\n",
    "#subtraction of vectors\n",
    "def vector_subtract(v,w):\n",
    "    return [v_i - w_i for v_i,w_i in zip(v,w)]\n",
    "\n",
    "#componenetwise addition    \n",
    "def vector_sum(vectors):\n",
    "    result = vectors[0]\n",
    "    for vector in vectors[1:]:\n",
    "        result = vector_sdd(result,vector)\n",
    "    return result"
   ]
  },
  {
   "cell_type": "code",
   "execution_count": 7,
   "metadata": {},
   "outputs": [],
   "source": [
    "#here actuallly we are just reducing the list of vectors using vector_add, which means we can rewrite this more accurately using higher order functions\n",
    "def vector_sum(vectors):\n",
    "    return reduce(vector_add, vectors)\n"
   ]
  },
  {
   "cell_type": "code",
   "execution_count": 12,
   "metadata": {},
   "outputs": [],
   "source": [
    "#multiplication by scalar\n",
    "def scalar_multiply(c,v):\n",
    "    return [c * v_i for v_i in v]\n",
    "\n",
    "#componentwise mean \n",
    "def vector_mean(vectorrs):\n",
    "    n = len(vectors)\n",
    "    return scalar_multiply(1/n,vector_sum(vectors))\n",
    "\n",
    "#dot product\n",
    "def dot(v,w):\n",
    "    return sum(v_i * w_i for v_i,w_i in zip(v,w))\n",
    "\n",
    "#vector sum of sqares\n",
    "def sum_of_squares(v):\n",
    "    return dot(v,v)\n",
    "\n",
    "#computing the magnitude\n",
    "import math\n",
    "\n",
    "def magnitude(v):\n",
    "    return math.sqrt(sum_of_squares(v))\n",
    "\n",
    "#computing the magnitude\n",
    "def distance(v,w):\n",
    "    return magnitude(vector_subtract(v,w))\n"
   ]
  },
  {
   "cell_type": "markdown",
   "metadata": {},
   "source": [
    "<h2>Matrices</h2>It is a 2 dimensional collection of numbers.It is represented as a list of lists with each inne list representing the same size and representing the row of the matrix "
   ]
  },
  {
   "cell_type": "code",
   "execution_count": 13,
   "metadata": {},
   "outputs": [],
   "source": [
    "A = [[1, 2, 3] , # A has 2 rows and 3 columns\n",
    "[4, 5, 6] ]\n",
    "B = [[1, 2] , # B has 3 rows and 2 columns\n",
    "[3, 4] ,\n",
    "[5, 6] ]"
   ]
  },
  {
   "cell_type": "code",
   "execution_count": 14,
   "metadata": {},
   "outputs": [],
   "source": [
    "#shape of matrix\n",
    "def shape( A) :\n",
    "    num_rows = len( A)\n",
    "    num_cols = len( A[0] ) if A else 0 # number of elements in first row\n",
    "    return num_rows, num_cols"
   ]
  },
  {
   "cell_type": "code",
   "execution_count": 15,
   "metadata": {},
   "outputs": [],
   "source": [
    "def get_row( A, i) :\n",
    "    return A[i] # A[i] is already the ith row\n",
    "def get_column( A, j ) :\n",
    "    return [A_i[j ] for A_i in A]  # jth element of row A_i  for each row A_i\n"
   ]
  },
  {
   "cell_type": "code",
   "execution_count": 17,
   "metadata": {},
   "outputs": [],
   "source": [
    "#creating a matrix given its shape and function to creating its element\n",
    "def make_matrix( num_rows, num_cols, entry_fn) :\n",
    "    return [[entry_fn( i, j ) # given i, create a list\n",
    "        for j in range( num_cols) ] # [entry_fn(i, 0) , . . . ]\n",
    "        for i in range( num_rows) ] # create one list for each i"
   ]
  },
  {
   "cell_type": "code",
   "execution_count": 18,
   "metadata": {},
   "outputs": [
    {
     "name": "stdout",
     "output_type": "stream",
     "text": [
      "[[1, 0, 0, 0, 0], [0, 1, 0, 0, 0], [0, 0, 1, 0, 0], [0, 0, 0, 1, 0], [0, 0, 0, 0, 1]]\n"
     ]
    }
   ],
   "source": [
    "#creating an identity matrix\n",
    "def is_diagonal(i,j):\n",
    "    return 1 if i == j else 0\n",
    "print(make_matrix(5,5,is_diagonal))"
   ]
  },
  {
   "cell_type": "code",
   "execution_count": 20,
   "metadata": {},
   "outputs": [],
   "source": [
    "#we can use a mtrix to represent a dataset consisting of multiple vectors\n",
    "# it can used to represent a linear function \n",
    "# it can be used to represent binary relationships\n",
    "friendships = [( 0, 1) , ( 0, 2) , ( 1, 2) , ( 1, 3) , ( 2, 3) , ( 3, 4) ,\n",
    "( 4, 5) , ( 5, 6) , ( 5, 7) , ( 6, 8) , ( 7, 8) , ( 8, 9) ]\n",
    "#we could also represent these as\n",
    "friendships = [[0, 1, 1, 0, 0, 0, 0, 0, 0, 0] , # user 0\n",
    "[1, 0, 1, 1, 0, 0, 0, 0, 0, 0] , # user 1\n",
    "[1, 1, 0, 1, 0, 0, 0, 0, 0, 0] , # user 2\n",
    "[0, 1, 1, 0, 1, 0, 0, 0, 0, 0] , # user 3\n",
    "[0, 0, 0, 1, 0, 1, 0, 0, 0, 0] , # user 4\n",
    "[0, 0, 0, 0, 1, 0, 1, 1, 0, 0] , # user 5\n",
    "[0, 0, 0, 0, 0, 1, 0, 0, 1, 0] , # user 6\n",
    "[0, 0, 0, 0, 0, 1, 0, 0, 1, 0] , # user 7\n",
    "[0, 0, 0, 0, 0, 0, 1, 1, 0, 1] , # user 8\n",
    "[0, 0, 0, 0, 0, 0, 0, 0, 1, 0] ] # user 9"
   ]
  },
  {
   "cell_type": "code",
   "execution_count": 21,
   "metadata": {},
   "outputs": [],
   "source": [
    "#to find the connections node\n",
    "friends_of_five = [i # only need\n",
    "for i, is_friend in enumerate( friendships[5] ) # to look at\n",
    "if is_friend] # one row"
   ]
  }
 ],
 "metadata": {
  "kernelspec": {
   "display_name": "Python 3",
   "language": "python",
   "name": "python3"
  },
  "language_info": {
   "codemirror_mode": {
    "name": "ipython",
    "version": 3
   },
   "file_extension": ".py",
   "mimetype": "text/x-python",
   "name": "python",
   "nbconvert_exporter": "python",
   "pygments_lexer": "ipython3",
   "version": "3.6.8"
  }
 },
 "nbformat": 4,
 "nbformat_minor": 2
}
