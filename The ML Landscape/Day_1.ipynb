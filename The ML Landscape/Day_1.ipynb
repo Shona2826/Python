{
 "cells": [
  {
   "cell_type": "code",
   "execution_count": 2,
   "metadata": {},
   "outputs": [],
   "source": [
    "users = [\n",
    "{ \"id\": 0, \"name\": \"Hero\" },\n",
    "{ \"id\": 1, \"name\": \"Dunn\" },\n",
    "{ \"id\": 2, \"name\": \"Sue\" },\n",
    "{ \"id\": 3, \"name\": \"Chi\" },\n",
    "{ \"id\": 4, \"name\": \"Thor\" },\n",
    "{ \"id\": 5, \"name\": \"Clive\" },\n",
    "{ \"id\": 6, \"name\": \"Hicks\" },\n",
    "{ \"id\": 7, \"name\": \"Devin\" },\n",
    "{ \"id\": 8, \"name\": \"Kate\" },\n",
    "{ \"id\": 9, \"name\": \"Klein\" }\n",
    "]"
   ]
  },
  {
   "cell_type": "code",
   "execution_count": 3,
   "metadata": {},
   "outputs": [],
   "source": [
    "friendships = [( 0, 1) , ( 0, 2) , ( 1, 2) , ( 1, 3) , ( 2, 3) , ( 3, 4) ,\n",
    "( 4, 5) , ( 5, 6) , ( 5, 7) , ( 6, 8) , ( 7, 8) , ( 8, 9) ]"
   ]
  },
  {
   "cell_type": "code",
   "execution_count": 4,
   "metadata": {},
   "outputs": [],
   "source": [
    "for user in users:\n",
    "    user[\"friends\"] = []\n",
    "\n",
    "for i,j in friendships:\n",
    "    users[i][\"friends\"].append(users[j]) #user i as a friend of j\n",
    "    users[j][\"friends\"].append(users[i]) #user j as a friend of i\n"
   ]
  },
  {
   "cell_type": "code",
   "execution_count": 5,
   "metadata": {},
   "outputs": [],
   "source": [
    "def number_of_friends(user):\n",
    "\treturn len(user[\"friends\"])\n",
    "\n",
    "total_connections = sum(number_of_friends(user) for user in users)\n"
   ]
  },
  {
   "cell_type": "code",
   "execution_count": 6,
   "metadata": {},
   "outputs": [],
   "source": [
    "from __future__ import division"
   ]
  },
  {
   "cell_type": "code",
   "execution_count": 7,
   "metadata": {},
   "outputs": [],
   "source": [
    "num_users = len(users)\n",
    "avg_connections = total_connections/num_users\n"
   ]
  },
  {
   "cell_type": "code",
   "execution_count": 8,
   "metadata": {},
   "outputs": [
    {
     "data": {
      "text/plain": [
       "[(9, 1),\n",
       " (0, 2),\n",
       " (4, 2),\n",
       " (6, 2),\n",
       " (7, 2),\n",
       " (1, 3),\n",
       " (2, 3),\n",
       " (3, 3),\n",
       " (5, 3),\n",
       " (8, 3)]"
      ]
     },
     "execution_count": 8,
     "metadata": {},
     "output_type": "execute_result"
    }
   ],
   "source": [
    "#most connected people\n",
    "num_friends_by_id = [(user[\"id\"],number_of_friends(user))\n",
    "\t\t\t\t\t\t for user in users]\n",
    "\n",
    "\n",
    "sorted(num_friends_by_id,key = lambda num_friends: num_friends[1])"
   ]
  },
  {
   "cell_type": "code",
   "execution_count": 9,
   "metadata": {},
   "outputs": [],
   "source": [
    "def friends_of_friend_ids_bad(user):\n",
    "    return [foaf[\"id\"]\n",
    "            for friend in user[\"friends\"]\n",
    "            for foaf in friend[\"friends\"]\n",
    "            ]"
   ]
  },
  {
   "cell_type": "code",
   "execution_count": 10,
   "metadata": {},
   "outputs": [],
   "source": [
    "from collections import Counter"
   ]
  },
  {
   "cell_type": "code",
   "execution_count": 11,
   "metadata": {},
   "outputs": [],
   "source": [
    "#count of mutual friends\n",
    "def not_the_same(user,other_user):\n",
    "    #two user are not the same if they have different user id\n",
    "    return user[\"id\"] != other_user[\"id\"]\n"
   ]
  },
  {
   "cell_type": "code",
   "execution_count": 12,
   "metadata": {},
   "outputs": [],
   "source": [
    "def not_friends(user,other_user):\n",
    "    return all(not_the_same(friend,other_user)\n",
    "                for friend in user[\"friends\"])"
   ]
  },
  {
   "cell_type": "code",
   "execution_count": 13,
   "metadata": {},
   "outputs": [],
   "source": [
    "def friends_of_friend_ids(user):\n",
    "    return Counter(foaf[\"id\"]\n",
    "                    for friend in user[\"friends\"]#for each of my friends\n",
    "                    for foaf in friend[\"friends\"]#count their friends\n",
    "                    if not_the_same(user,foaf)#who aren't me\n",
    "                    and not_friends(user,foaf))#and not my friends\n"
   ]
  },
  {
   "cell_type": "code",
   "execution_count": 14,
   "metadata": {},
   "outputs": [
    {
     "name": "stdout",
     "output_type": "stream",
     "text": [
      "Counter({5: 2})\n"
     ]
    }
   ],
   "source": [
    "print(friends_of_friend_ids(users[8]))"
   ]
  },
  {
   "cell_type": "code",
   "execution_count": 15,
   "metadata": {},
   "outputs": [],
   "source": [
    "#interest of the user\n",
    "interests = [\n",
    "( 0, \"Hadoop\") , ( 0, \"Big Data\") , ( 0, \"HBase\") , ( 0, \"Java\") ,\n",
    "( 0, \"Spark\") , ( 0, \"Storm\") , ( 0, \"Cassandra\") ,\n",
    "( 1, \"NoSQL\") , ( 1, \"MongoDB\") , ( 1, \"Cassandra\") , ( 1, \"HBase\") ,\n",
    "( 1, \"Postgres\") , ( 2, \"Python\") , ( 2, \"scikit- learn\") , ( 2, \"scipy\") ,\n",
    "( 2, \"numpy\") , ( 2, \"statsmodels\") , ( 2, \"pandas\") , ( 3, \"R\") , ( 3, \"Python\") ,\n",
    "( 3, \"statistics\") , ( 3, \"regression\") , ( 3, \"probability\") ,\n",
    "( 4, \"machine learning\") , ( 4, \"regression\") , ( 4, \"decision trees\") ,\n",
    "( 4, \"libsvm\") , ( 5, \"Python\") , ( 5, \"R\") , ( 5, \"Java\") , ( 5, \"C++\") ,\n",
    "( 5, \"Haskell\") , ( 5, \"programming languages\") , ( 6, \"statistics\") ,\n",
    "( 6, \"probability\") , ( 6, \"mathematics\") , ( 6, \"theory\") ,\n",
    "( 7, \"machine learning\") , ( 7, \"scikit- learn\") , ( 7, \"Mahout\") ,\n",
    "( 7, \"neural networks\") , ( 8, \"neural networks\") , ( 8, \"deep learning\") ,\n",
    "( 8, \"Big Data\") , ( 8, \"artificial intelligence\") , ( 9, \"Hadoop\") ,\n",
    "( 9, \"Java\") , ( 9, \"MapReduce\") , ( 9, \"Big Data\")\n",
    "]"
   ]
  },
  {
   "cell_type": "code",
   "execution_count": 16,
   "metadata": {},
   "outputs": [],
   "source": [
    "def data_scientists_who_like(target_interest):\n",
    "    return [user_id\n",
    "            for user_id,user_interest in interests\n",
    "            if user_interest == target_interest]"
   ]
  },
  {
   "cell_type": "code",
   "execution_count": 17,
   "metadata": {},
   "outputs": [
    {
     "data": {
      "text/plain": [
       "[0, 9]"
      ]
     },
     "execution_count": 17,
     "metadata": {},
     "output_type": "execute_result"
    }
   ],
   "source": [
    "data_scientists_who_like(\"Hadoop\")"
   ]
  },
  {
   "cell_type": "code",
   "execution_count": 21,
   "metadata": {},
   "outputs": [
    {
     "name": "stdout",
     "output_type": "stream",
     "text": [
      "defaultdict(<class 'list'>, {'Hadoop': [0, 9], 'Big Data': [0, 8, 9], 'HBase': [0, 1], 'Java': [0, 5, 9], 'Spark': [0], 'Storm': [0], 'Cassandra': [0, 1], 'NoSQL': [1], 'MongoDB': [1], 'Postgres': [1], 'Python': [2, 3, 5], 'scikit- learn': [2, 7], 'scipy': [2], 'numpy': [2], 'statsmodels': [2], 'pandas': [2], 'R': [3, 5], 'statistics': [3, 6], 'regression': [3, 4], 'probability': [3, 6], 'machine learning': [4, 7], 'decision trees': [4], 'libsvm': [4], 'C++': [5], 'Haskell': [5], 'programming languages': [5], 'mathematics': [6], 'theory': [6], 'Mahout': [7], 'neural networks': [7, 8], 'deep learning': [8], 'artificial intelligence': [8], 'MapReduce': [9]})\n"
     ]
    }
   ],
   "source": [
    "#this works but it has to examine the whole list of interests of every search  and suppose  if we have a lot of users of various uintersts than it will be a very tedious task.so it would be better to build an index from interests to users.\n",
    "from collections import defaultdict\n",
    "user_ids_by_interest = defaultdict(list)\n",
    "for user_id,interest in interests:\n",
    "    user_ids_by_interest[interest].append(user_id)\n",
    "\n",
    "print(user_ids_by_interest)"
   ]
  },
  {
   "cell_type": "code",
   "execution_count": 22,
   "metadata": {},
   "outputs": [],
   "source": [
    "#from user to interests\n",
    "interests_by_user_id = defaultdict(list)\n",
    "for user_id,interest in interests:\n",
    "    interests_by_user_id[user_id].append(interest)"
   ]
  },
  {
   "cell_type": "code",
   "execution_count": 23,
   "metadata": {},
   "outputs": [
    {
     "name": "stdout",
     "output_type": "stream",
     "text": [
      "defaultdict(<class 'list'>, {0: ['Hadoop', 'Big Data', 'HBase', 'Java', 'Spark', 'Storm', 'Cassandra'], 1: ['NoSQL', 'MongoDB', 'Cassandra', 'HBase', 'Postgres'], 2: ['Python', 'scikit- learn', 'scipy', 'numpy', 'statsmodels', 'pandas'], 3: ['R', 'Python', 'statistics', 'regression', 'probability'], 4: ['machine learning', 'regression', 'decision trees', 'libsvm'], 5: ['Python', 'R', 'Java', 'C++', 'Haskell', 'programming languages'], 6: ['statistics', 'probability', 'mathematics', 'theory'], 7: ['machine learning', 'scikit- learn', 'Mahout', 'neural networks'], 8: ['neural networks', 'deep learning', 'Big Data', 'artificial intelligence'], 9: ['Hadoop', 'Java', 'MapReduce', 'Big Data']})\n"
     ]
    }
   ],
   "source": [
    "print(interests_by_user_id)\n"
   ]
  },
  {
   "cell_type": "code",
   "execution_count": 25,
   "metadata": {},
   "outputs": [
    {
     "name": "stdout",
     "output_type": "stream",
     "text": [
      "Counter({9: 3, 1: 2, 8: 1, 5: 1})\n"
     ]
    }
   ],
   "source": [
    "def most_common_interest_with(user):\n",
    "    return Counter(interested_user_id\n",
    "        for interest in interests_by_user_id[user[\"id\"]]\n",
    "        for interested_user_id in user_ids_by_interest[interest]\n",
    "        if interested_user_id != user[\"id\"])\n",
    "\n",
    "print(most_common_interest_with(users[0]))\n"
   ]
  }
 ],
 "metadata": {
  "kernelspec": {
   "display_name": "Python 3",
   "language": "python",
   "name": "python3"
  },
  "language_info": {
   "codemirror_mode": {
    "name": "ipython",
    "version": 3
   },
   "file_extension": ".py",
   "mimetype": "text/x-python",
   "name": "python",
   "nbconvert_exporter": "python",
   "pygments_lexer": "ipython3",
   "version": "3.6.8"
  }
 },
 "nbformat": 4,
 "nbformat_minor": 2
}
